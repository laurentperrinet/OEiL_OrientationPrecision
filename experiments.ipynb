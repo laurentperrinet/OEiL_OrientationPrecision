{
 "cells": [
  {
   "cell_type": "code",
   "execution_count": 1,
   "metadata": {},
   "outputs": [
    {
     "name": "stdout",
     "output_type": "stream",
     "text": [
      "Python implementation: CPython\n",
      "Python version       : 3.12.6\n",
      "IPython version      : 8.27.0\n",
      "\n",
      "numpy       : 1.26.4\n",
      "MotionClouds: 20220927\n",
      "\n",
      "Compiler    : Clang 16.0.0 (clang-1600.0.26.3)\n",
      "OS          : Darwin\n",
      "Release     : 24.0.0\n",
      "Machine     : arm64\n",
      "Processor   : arm\n",
      "CPU cores   : 10\n",
      "Architecture: 64bit\n",
      "\n",
      "Hostname: obiwan.local\n",
      "\n"
     ]
    }
   ],
   "source": [
    "%load_ext watermark\n",
    "%watermark -i -h -m -v -p numpy,MotionClouds "
   ]
  },
  {
   "cell_type": "markdown",
   "metadata": {},
   "source": [
    "# pilot: one B_sf some B_theta many thetas"
   ]
  },
  {
   "cell_type": "code",
   "execution_count": 2,
   "metadata": {},
   "outputs": [],
   "source": [
    "%rm -fr img_pilot_folder"
   ]
  },
  {
   "cell_type": "code",
   "execution_count": 4,
   "metadata": {},
   "outputs": [
    {
     "name": "stdout",
     "output_type": "stream",
     "text": [
      "\n",
      " Initializing\n",
      "B_thetas =  [0.34906585 0.6981317  1.04719755]\n",
      "B_sfs =  [0.1]\n",
      "          {stimulus: 'img_pilot_folder/0.png'},\n",
      "          {stimulus: 'img_pilot_folder/1.png'},\n",
      "          {stimulus: 'img_pilot_folder/2.png'},\n",
      "          {stimulus: 'img_pilot_folder/3.png'},\n",
      "          {stimulus: 'img_pilot_folder/4.png'},\n",
      "          {stimulus: 'img_pilot_folder/5.png'},\n",
      "          {stimulus: 'img_pilot_folder/6.png'},\n",
      "          {stimulus: 'img_pilot_folder/7.png'},\n",
      "          {stimulus: 'img_pilot_folder/8.png'},\n",
      "          {stimulus: 'img_pilot_folder/9.png'},\n",
      "          {stimulus: 'img_pilot_folder/10.png'},\n",
      "          {stimulus: 'img_pilot_folder/11.png'},\n",
      "          {stimulus: 'img_pilot_folder/12.png'},\n",
      "          {stimulus: 'img_pilot_folder/13.png'},\n",
      "          {stimulus: 'img_pilot_folder/14.png'},\n",
      "          {stimulus: 'img_pilot_folder/15.png'},\n",
      "          {stimulus: 'img_pilot_folder/16.png'},\n",
      "          {stimulus: 'img_pilot_folder/17.png'},\n",
      "          {stimulus: 'img_pilot_folder/18.png'},\n",
      "          {stimulus: 'img_pilot_folder/19.png'},\n",
      "          {stimulus: 'img_pilot_folder/20.png'},\n",
      "          {stimulus: 'img_pilot_folder/21.png'},\n",
      "          {stimulus: 'img_pilot_folder/22.png'},\n",
      "          {stimulus: 'img_pilot_folder/23.png'},\n",
      "          {stimulus: 'img_pilot_folder/24.png'},\n",
      "          {stimulus: 'img_pilot_folder/25.png'},\n",
      "          {stimulus: 'img_pilot_folder/26.png'},\n",
      "          {stimulus: 'img_pilot_folder/27.png'},\n",
      "          {stimulus: 'img_pilot_folder/28.png'},\n",
      "          {stimulus: 'img_pilot_folder/29.png'},\n",
      "          {stimulus: 'img_pilot_folder/30.png'},\n",
      "          {stimulus: 'img_pilot_folder/31.png'},\n",
      "          {stimulus: 'img_pilot_folder/32.png'},\n",
      "          {stimulus: 'img_pilot_folder/33.png'},\n",
      "          {stimulus: 'img_pilot_folder/34.png'},\n",
      "          {stimulus: 'img_pilot_folder/35.png'},\n"
     ]
    }
   ],
   "source": [
    "import os\n",
    "data_folder = 'img_pilot_folder'\n",
    "os.makedirs(data_folder, exist_ok=True)\n",
    "\n",
    "print('\\n Initializing')\n",
    "\n",
    "# parameters \n",
    "import MotionClouds as mc\n",
    "import numpy as np\n",
    "\n",
    "N_B_theta = 3\n",
    "N_B_sf = 1\n",
    "N_repet = 1\n",
    "N_thetas = 12\n",
    "\n",
    "B_thetas = np.pi/3 * np.linspace(0, 1, N_B_theta+1)[1:]\n",
    "print('B_thetas = ', B_thetas)\n",
    "B_sfs = [mc.B_sf] #* np.logspace(-1, -1, N_B_sf, base=2)\n",
    "print('B_sfs = ', B_sfs)\n",
    "theta_max = np.pi/8\n",
    "thetas = np.linspace(-theta_max, theta_max, N_thetas)\n",
    "\n",
    "# generate all clouds\n",
    "import imageio\n",
    "def generate_random_cloud(i_trial, theta, B_theta, B_sf, seed, downscale = 1):\n",
    "    # fname = f'{data_folder}/theta_{theta}_B_theta_{B_theta}_B_sf_{B_sf}_seed_{seed}.png'\n",
    "    fname = f'{data_folder}/{i_trial}.png'\n",
    "    if not os.path.isfile(fname):\n",
    "        fx, fy, ft = mc.get_grids(mc.N_X/downscale, mc.N_Y/downscale, 1)\n",
    "        mc_i = mc.envelope_gabor(fx, fy, ft, V_X=0., V_Y=0., B_sf=B_sf,\n",
    "                                 B_V=0, theta=np.pi/2-theta, B_theta=B_theta)\n",
    "        im = mc.random_cloud(mc_i, seed=seed)\n",
    "        im = (mc.rectif(im) * 255).astype('uint8')\n",
    "        imageio.imwrite(fname, im[:, :, 0])\n",
    "    return fname\n",
    "\n",
    "\n",
    "all_conditions = [(i_repet, i_theta, i_B_theta, i_B_sf) \n",
    "                  for i_repet in range(N_repet) \n",
    "                  for i_theta in range(N_thetas) \n",
    "                  for i_B_theta in range(N_B_theta) \n",
    "                  for i_B_sf in range(N_B_sf)]\n",
    "N_total_trials = len(all_conditions)\n",
    "ind = np.random.permutation(N_total_trials)\n",
    "\n",
    "seed = 2024\n",
    "np.random.seed(seed)\n",
    "parameters = []\n",
    "for i_trial in range(N_total_trials):\n",
    "    i_repet, i_theta, i_B_theta, i_B_sf = all_conditions[ind[i_trial]]\n",
    "\n",
    "    fname = generate_random_cloud(i_trial, thetas[i_theta], \n",
    "                               B_theta=B_thetas[i_B_theta], \n",
    "                               B_sf=B_sfs[i_B_sf], \n",
    "                               seed=seed+i_trial)\n",
    "    parameters.append({'fname':fname, 'theta': thetas[i_theta], 'B_theta': B_thetas[i_B_theta], 'B_sf': B_sfs[i_B_sf], 'seed': seed+i_trial, 'i_trial': i_trial})\n",
    "    print(f\"          {{stimulus: '{fname}'}},\",\n",
    "\n",
    ")\n",
    "\n",
    "\n",
    "import json\n",
    "with open('img_pilot_folder/parameters.json', 'w') as f:\n",
    "    json.dump(parameters, f)\n"
   ]
  },
  {
   "cell_type": "code",
   "execution_count": 17,
   "metadata": {},
   "outputs": [],
   "source": [
    "all_conditions = [(i_repet, i_theta, i_B_theta, i_B_sf) for i_repet in range(N_repet) for i_theta in range(N_thetas) for i_B_theta in range(N_B_theta) for i_B_sf in range(N_B_sf)]\n",
    "N_total_trials = len(all_conditions)\n",
    "ind = np.random.permutation(N_total_trials)"
   ]
  },
  {
   "cell_type": "code",
   "execution_count": null,
   "metadata": {},
   "outputs": [],
   "source": [
    "N_thetas, N_B_theta, N_total_trials"
   ]
  },
  {
   "cell_type": "code",
   "execution_count": null,
   "metadata": {},
   "outputs": [],
   "source": [
    "all_conditions"
   ]
  },
  {
   "cell_type": "code",
   "execution_count": null,
   "metadata": {},
   "outputs": [],
   "source": []
  }
 ],
 "metadata": {
  "kernelspec": {
   "display_name": "Python 3",
   "language": "python",
   "name": "python3"
  },
  "language_info": {
   "codemirror_mode": {
    "name": "ipython",
    "version": 3
   },
   "file_extension": ".py",
   "mimetype": "text/x-python",
   "name": "python",
   "nbconvert_exporter": "python",
   "pygments_lexer": "ipython3",
   "version": "3.12.6"
  },
  "toc": {
   "base_numbering": 1,
   "nav_menu": {},
   "number_sections": true,
   "sideBar": true,
   "skip_h1_title": false,
   "title_cell": "Table of Contents",
   "title_sidebar": "Contents",
   "toc_cell": false,
   "toc_position": {},
   "toc_section_display": true,
   "toc_window_display": false
  }
 },
 "nbformat": 4,
 "nbformat_minor": 4
}
